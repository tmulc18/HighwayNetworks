{
 "cells": [
  {
   "cell_type": "code",
   "execution_count": 1,
   "metadata": {
    "collapsed": true
   },
   "outputs": [],
   "source": [
    "import tensorflow as tf\n",
    "from tqdm import tqdm\n",
    "from utils import *\n",
    "from matplotlib import pyplot as plt\n",
    "%matplotlib inline"
   ]
  },
  {
   "cell_type": "markdown",
   "metadata": {},
   "source": [
    "# Parameters"
   ]
  },
  {
   "cell_type": "code",
   "execution_count": 2,
   "metadata": {
    "collapsed": true
   },
   "outputs": [],
   "source": [
    "num_nodes = 500\n",
    "num_blocks = 4"
   ]
  },
  {
   "cell_type": "markdown",
   "metadata": {},
   "source": [
    "# Data"
   ]
  },
  {
   "cell_type": "code",
   "execution_count": 3,
   "metadata": {
    "collapsed": true
   },
   "outputs": [],
   "source": [
    "trainer = get_trainer()\n",
    "x_feed,y_feed = trainer.next_batch()"
   ]
  },
  {
   "cell_type": "markdown",
   "metadata": {},
   "source": [
    "# Network"
   ]
  },
  {
   "cell_type": "code",
   "execution_count": 4,
   "metadata": {
    "collapsed": true
   },
   "outputs": [],
   "source": [
    "def dense_layer(x,num_nodes,activation='relu',name_suffix='',bias_init_val=1):\n",
    "    \"\"\"\n",
    "    Dense fully connected layer\n",
    "    y = activation(xW+b)\n",
    "    \n",
    "    Inputs\n",
    "    ------------------\n",
    "    x : input tensor\n",
    "    \n",
    "    num_nodes : number of nodes in the layer\n",
    "    \n",
    "    acitvation (optional: activation function to use \n",
    "         one of ['relu','sigmoid',None]\n",
    "         default is 'relu'\n",
    "    \n",
    "    name_suffix (optional) : the suffix to append to variable names\n",
    "    \n",
    "    bias_init_val (optional) : the initial value of the bias\n",
    "\n",
    "    \n",
    "    Outputs\n",
    "    ---------------------\n",
    "    y : the output tensor\n",
    "    \"\"\"\n",
    "    input_shape = x.get_shape()\n",
    "    W=tf.get_variable('W'+name_suffix,initializer=tf.random_normal(stddev=.01,shape=[int(input_shape[-1]),num_nodes]))\n",
    "    b=tf.get_variable('b'+name_suffix,initializer=tf.constant(bias_init_val,shape = [num_nodes],dtype=tf.float32))\n",
    "    \n",
    "    logits = tf.matmul(x,W)+b\n",
    "    \n",
    "    if activation == None:\n",
    "        y = logits\n",
    "    elif activation == 'relu':\n",
    "        y = tf.nn.relu(logits)\n",
    "    elif activation == 'sigmoid':\n",
    "        y = tf.nn.sigmoid(logits)\n",
    "    else:\n",
    "        raise ValueError(\"Enter a valid activation function\")\n",
    "    \n",
    "    return y"
   ]
  },
  {
   "cell_type": "code",
   "execution_count": 5,
   "metadata": {
    "collapsed": true
   },
   "outputs": [],
   "source": [
    "def highway_block(x,layer,num_nodes=784):\n",
    "    \"\"\"\n",
    "    Highway Network block\n",
    "    \n",
    "    H(x)*T(x)+(1-T(x))*x\n",
    "    \n",
    "    Input:\n",
    "    x : tensor input\n",
    "    \n",
    "    layer : layer number for the highway block\n",
    "    \n",
    "    Output:\n",
    "    r : last layer in the highway block\n",
    "    \"\"\"\n",
    "    input_shape = x.get_shape()\n",
    "    with tf.variable_scope('highway_%d'%layer):\n",
    "        H = dense_layer(x,name_suffix='_h',num_nodes=num_nodes,activation='relu')\n",
    "        T = dense_layer(x,name_suffix='_t',num_nodes=num_nodes,activation='sigmoid',bias_init_val=-1)\n",
    "    return H*T + (1.-T)*x"
   ]
  },
  {
   "cell_type": "code",
   "execution_count": 6,
   "metadata": {
    "collapsed": true
   },
   "outputs": [],
   "source": [
    "g = tf.Graph()\n",
    "with g.as_default():\n",
    "    x = tf.placeholder(tf.float32,shape=[None,x_feed.shape[-1]])\n",
    "    y = tf.placeholder(tf.float32,shape=[None,y_feed.shape[-1]])\n",
    "    \n",
    "    \n",
    "    hn = dense_layer(x,num_nodes = num_nodes,activation=None,name_suffix='pjct')\n",
    "    for i in range(num_blocks):\n",
    "        hn = highway_block(hn,layer=i,num_nodes=num_nodes)\n",
    "    fc = dense_layer(hn,num_nodes=10,activation=None,name_suffix='fc')\n",
    "    \n",
    "    loss = tf.reduce_mean(tf.nn.softmax_cross_entropy_with_logits(logits=fc,labels=y))\n",
    "    \n",
    "    opt = tf.train.AdamOptimizer(learning_rate=.001).minimize(loss)\n",
    "    \n",
    "    pred = tf.nn.softmax(fc)\n",
    "    \n",
    "    init = tf.global_variables_initializer()"
   ]
  },
  {
   "cell_type": "markdown",
   "metadata": {},
   "source": [
    "# Train"
   ]
  },
  {
   "cell_type": "code",
   "execution_count": 7,
   "metadata": {},
   "outputs": [
    {
     "name": "stderr",
     "output_type": "stream",
     "text": [
      "100%|██████████| 5000/5000 [01:08<00:00, 72.71it/s]\n"
     ]
    }
   ],
   "source": [
    "sess = tf.Session(graph=g)\n",
    "sess.run(init)\n",
    "num_steps = 5000\n",
    "losses = []\n",
    "for i in tqdm(range(num_steps)):\n",
    "    x_feed,y_feed = trainer.next_batch()\n",
    "    fd = {x : x_feed, y : y_feed}\n",
    "    l , _ = sess.run([loss,opt],feed_dict = fd)\n",
    "    losses.append(l)"
   ]
  },
  {
   "cell_type": "code",
   "execution_count": 12,
   "metadata": {},
   "outputs": [
    {
     "data": {
      "text/plain": [
       "[<matplotlib.lines.Line2D at 0x10e930790>]"
      ]
     },
     "execution_count": 12,
     "metadata": {},
     "output_type": "execute_result"
    },
    {
     "data": {
      "image/png": "[encoded data removed]",
      "text/plain": [
       "<matplotlib.figure.Figure at 0x10d2e6810>"
      ]
     },
     "metadata": {},
     "output_type": "display_data"
    }
   ],
   "source": [
    "plt.plot(losses)"
   ]
  },
  {
   "cell_type": "markdown",
   "metadata": {},
   "source": [
    "# Accuracy Evaluations"
   ]
  },
  {
   "cell_type": "code",
   "execution_count": 9,
   "metadata": {},
   "outputs": [
    {
     "data": {
      "text/plain": [
       "0.88716666666666666"
      ]
     },
     "execution_count": 9,
     "metadata": {},
     "output_type": "execute_result"
    }
   ],
   "source": [
    "x_feed,y_feed = get_train()\n",
    "fd = {x : x_feed, y : y_feed}\n",
    "y_hat = sess.run(pred,feed_dict=fd)\n",
    "accuracy(y_feed,y_hat)"
   ]
  },
  {
   "cell_type": "code",
   "execution_count": 10,
   "metadata": {},
   "outputs": [
    {
     "data": {
      "text/plain": [
       "0.87891666666666668"
      ]
     },
     "execution_count": 10,
     "metadata": {},
     "output_type": "execute_result"
    }
   ],
   "source": [
    "x_feed,y_feed = get_validation()\n",
    "fd = {x : x_feed, y : y_feed}\n",
    "y_hat = sess.run(pred,feed_dict=fd)\n",
    "accuracy(y_feed,y_hat)"
   ]
  },
  {
   "cell_type": "code",
   "execution_count": 11,
   "metadata": {},
   "outputs": [
    {
     "data": {
      "text/plain": [
       "0.88129999999999997"
      ]
     },
     "execution_count": 11,
     "metadata": {},
     "output_type": "execute_result"
    }
   ],
   "source": [
    "x_feed,y_feed = get_test()\n",
    "fd = {x : x_feed, y : y_feed}\n",
    "y_hat = sess.run(pred,feed_dict=fd)\n",
    "accuracy(y_feed,y_hat)"
   ]
  }
 ],
 "metadata": {
  "kernelspec": {
   "display_name": "Python [conda env:tensorflow1]",
   "language": "python",
   "name": "conda-env-tensorflow1-py"
  },
  "language_info": {
   "codemirror_mode": {
    "name": "ipython",
    "version": 2
   },
   "file_extension": ".py",
   "mimetype": "text/x-python",
   "name": "python",
   "nbconvert_exporter": "python",
   "pygments_lexer": "ipython2",
   "version": "2.7.13"
  }
 },
 "nbformat": 4,
 "nbformat_minor": 2
}
